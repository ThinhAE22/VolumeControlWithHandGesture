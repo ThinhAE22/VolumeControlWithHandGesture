{
 "cells": [
  {
   "cell_type": "code",
   "execution_count": 20,
   "metadata": {},
   "outputs": [],
   "source": [
    "import cv2\n",
    "import math\n",
    "import time\n",
    "import numpy as np\n",
    "import HandTrackingModule as htm"
   ]
  },
  {
   "cell_type": "code",
   "execution_count": 21,
   "metadata": {},
   "outputs": [],
   "source": [
    "#global param\n",
    "wCam, hCam = 640,840\n",
    "pTime = 0 #initiate\n",
    "\n",
    "#install pycaw (adjust audio)\n",
    "from comtypes import CLSCTX_ALL\n",
    "from pycaw.pycaw import AudioUtilities, IAudioEndpointVolume\n",
    "devices = AudioUtilities.GetSpeakers()\n",
    "interface = devices.Activate(\n",
    "    IAudioEndpointVolume._iid_, CLSCTX_ALL, None)\n",
    "volume = interface.QueryInterface(IAudioEndpointVolume)\n",
    "#volume.GetMute()\n",
    "#volume.GetMasterVolumeLevel()\n",
    "volRange = volume.GetVolumeRange() #min,max\n",
    "minVol = volRange[0]\n",
    "maxVol = volRange[1]\n",
    "vol = 0\n",
    "volBar = 0\n",
    "volPer = 0"
   ]
  },
  {
   "cell_type": "code",
   "execution_count": 22,
   "metadata": {},
   "outputs": [],
   "source": [
    "#Initialize some object\n",
    "detector = htm.handDetector(detectionCon=0.7)\n",
    "\n"
   ]
  },
  {
   "cell_type": "code",
   "execution_count": 25,
   "metadata": {},
   "outputs": [],
   "source": [
    "cap = cv2.VideoCapture(0)\n",
    "cap.set(3, wCam)\n",
    "cap.set(4, hCam)\n",
    "\n",
    "while True:\n",
    "    success, img = cap.read()\n",
    "    img= detector.findHands(img)\n",
    "\n",
    "    # Find landmark list\n",
    "    lmList = detector.findPosition(img, draw=False)  # Get landmark positions\n",
    "\n",
    "    if len(lmList) != 0:\n",
    "        #print(\"Thumb Position:\", lmList[4])  # Thumb tip\n",
    "        #print(\"Index Position:\", lmList[8])  # Index tip\n",
    "        #thumb tip\n",
    "        x1 = lmList[4][1]\n",
    "        y1 = lmList[4][2]\n",
    "\n",
    "        #index tip\n",
    "        x2 = lmList[8][1]\n",
    "        y2 = lmList[8][2]\n",
    "\n",
    "        cx,cy = (x1+x2)//2, (y1+y2)//2\n",
    "\n",
    "        cv2.circle(img, (x1,y1),15, (255,0,255),cv2.FILLED)\n",
    "        cv2.circle(img, (x2,y2),15, (255,0,255),cv2.FILLED)\n",
    "        cv2.line(img, (x1,y1),(x2,y2),(0,255,255),3)\n",
    "        cv2.circle(img, (cx,cy),15, (255,0,255),cv2.FILLED)\n",
    "\n",
    "        length = math.hypot(x2-x1,y2-y1)\n",
    "        #print(length) 6-210 length volrange -95 to 0\n",
    "        vol = np.interp(length,[6,220],[minVol,maxVol])\n",
    "        volBar = np.interp(length,[6,220],[380,10])\n",
    "        volPer = np.interp(length,[6,220],[0,100])\n",
    "        #print(int(length),vol)\n",
    "        volume.SetMasterVolumeLevel(vol, None)\n",
    "\n",
    "\n",
    "\n",
    "    cv2.rectangle(img, (50,10),(85,380),(0,255,0),3)\n",
    "    cv2.rectangle(img, (50, int(volBar)), (85, 380), (0, 255, 0), cv2.FILLED) \n",
    "                  \n",
    "    cTime = time.time()\n",
    "    fps = 1 / (cTime - pTime)\n",
    "    pTime = cTime\n",
    "\n",
    "    cv2.putText(img, f'FPS: {int(fps)}', (500, 70), cv2.FONT_HERSHEY_SIMPLEX, 1, (0, 255, 0), 3)\n",
    "    cv2.putText(img, f'Volume: {int(volPer)}%', (40, 450), cv2.FONT_HERSHEY_SIMPLEX, 1, (0, 255, 0), 3)\n",
    "    cv2.imshow(\"frame\", img)\n",
    "    \n",
    "    k = cv2.waitKey(1) & 0xFF\n",
    "    if k == 27:  # Escape key\n",
    "        break\n",
    "\n",
    "cap.release()\n",
    "cv2.destroyAllWindows()\n"
   ]
  },
  {
   "cell_type": "code",
   "execution_count": null,
   "metadata": {},
   "outputs": [],
   "source": []
  }
 ],
 "metadata": {
  "kernelspec": {
   "display_name": "Python 3 (ipykernel)",
   "language": "python",
   "name": "python3"
  },
  "language_info": {
   "codemirror_mode": {
    "name": "ipython",
    "version": 3
   },
   "file_extension": ".py",
   "mimetype": "text/x-python",
   "name": "python",
   "nbconvert_exporter": "python",
   "pygments_lexer": "ipython3",
   "version": "3.8.15"
  }
 },
 "nbformat": 4,
 "nbformat_minor": 4
}
